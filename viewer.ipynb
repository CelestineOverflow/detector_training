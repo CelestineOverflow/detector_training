{
 "cells": [
  {
   "cell_type": "code",
   "execution_count": 25,
   "metadata": {},
   "outputs": [
    {
     "name": "stdout",
     "output_type": "stream",
     "text": [
      "tensorflow 2.11.0\n",
      "numpy 1.23.4\n",
      "scipy 1.9.3\n",
      "pydot 1.4.2\n"
     ]
    }
   ],
   "source": [
    "import tensorflow as tf\n",
    "import numpy as np\n",
    "import scipy as sp\n",
    "from keras.utils.vis_utils import plot_model\n",
    "import pydot\n",
    "from keras_sequential_ascii import keras2ascii\n",
    "#check imports and versions\n",
    "for module in [tf, np, sp, pydot]:\n",
    "    print(module.__name__, module.__version__)\n",
    "# %pip install plotly.express --upgrade"
   ]
  },
  {
   "cell_type": "code",
   "execution_count": 26,
   "metadata": {},
   "outputs": [],
   "source": [
    "dataset_path = r'D:\\training\\data\\dataset'"
   ]
  },
  {
   "cell_type": "code",
   "execution_count": 27,
   "metadata": {},
   "outputs": [
    {
     "name": "stdout",
     "output_type": "stream",
     "text": [
      "Found 999 files belonging to 2 classes.\n"
     ]
    }
   ],
   "source": [
    "# create a dataset from the images\n",
    "dataset = tf.keras.preprocessing.image_dataset_from_directory(\n",
    "    dataset_path,\n",
    "    labels='inferred',\n",
    "    label_mode='binary',\n",
    "    class_names=['empty', 'full'],\n",
    "    color_mode='rgb'\n",
    ")"
   ]
  },
  {
   "cell_type": "code",
   "execution_count": 28,
   "metadata": {},
   "outputs": [
    {
     "name": "stdout",
     "output_type": "stream",
     "text": [
      "['empty', 'full']\n"
     ]
    }
   ],
   "source": [
    "#print the class names of the dataset\n",
    "print(dataset.class_names)\n",
    "#show the first 9 images of the dataset and their labels with cv2\n",
    "\n",
    "import cv2\n",
    "\n",
    "for images, labels in dataset.take(1):\n",
    "    for i in range(9):\n",
    "        image = images[i].numpy().astype('uint8')\n",
    "        label = labels[i].numpy()\n",
    "        label = dataset.class_names[int(label)]\n",
    "        #put the label on the image\n",
    "        cv2.putText(image, label, (0, 30), cv2.FONT_HERSHEY_SIMPLEX, 1, (255, 255, 255), 2)\n",
    "        cv2.imshow('image', image)\n",
    "        cv2.waitKey(0)\n",
    "        cv2.destroyAllWindows()"
   ]
  },
  {
   "cell_type": "code",
   "execution_count": 29,
   "metadata": {},
   "outputs": [
    {
     "name": "stdout",
     "output_type": "stream",
     "text": [
      "Epoch 1/10\n",
      "32/32 [==============================] - 9s 258ms/step - loss: 11.6470 - accuracy: 0.6296\n",
      "Epoch 2/10\n",
      "32/32 [==============================] - 8s 250ms/step - loss: 1.3863 - accuracy: 0.8839\n",
      "Epoch 3/10\n",
      "32/32 [==============================] - 8s 250ms/step - loss: 1.1453 - accuracy: 0.9129\n",
      "Epoch 4/10\n",
      "32/32 [==============================] - 8s 249ms/step - loss: 0.8388 - accuracy: 0.9209\n",
      "Epoch 5/10\n",
      "32/32 [==============================] - 8s 249ms/step - loss: 0.6524 - accuracy: 0.9309\n",
      "Epoch 6/10\n",
      "32/32 [==============================] - 8s 250ms/step - loss: 0.6839 - accuracy: 0.9279\n",
      "Epoch 7/10\n",
      "32/32 [==============================] - 8s 255ms/step - loss: 0.4232 - accuracy: 0.9530\n",
      "Epoch 8/10\n",
      "32/32 [==============================] - 8s 249ms/step - loss: 0.3364 - accuracy: 0.9600\n",
      "Epoch 9/10\n",
      "32/32 [==============================] - 8s 252ms/step - loss: 0.4400 - accuracy: 0.9540\n",
      "Epoch 10/10\n",
      "32/32 [==============================] - 8s 249ms/step - loss: 1.7199 - accuracy: 0.8889\n"
     ]
    },
    {
     "data": {
      "text/plain": [
       "<keras.callbacks.History at 0x1d21d984700>"
      ]
     },
     "execution_count": 29,
     "metadata": {},
     "output_type": "execute_result"
    }
   ],
   "source": [
    "model = tf.keras.models.Sequential([\n",
    "    tf.keras.layers.experimental.preprocessing.Rescaling(1./255),\n",
    "    tf.keras.layers.Flatten(input_shape=(128, 128)),\n",
    "    tf.keras.layers.Dense(128, activation='relu'),\n",
    "    tf.keras.layers.Dense(128, activation='relu'),\n",
    "    tf.keras.layers.Dense(128, activation='relu'),\n",
    "    tf.keras.layers.Dense(1, activation='sigmoid')\n",
    "])\n",
    "\n",
    "model.compile(\n",
    "    optimizer='adam',\n",
    "    loss=tf.keras.losses.BinaryCrossentropy(from_logits=True),\n",
    "    metrics=['accuracy']\n",
    ")\n",
    "\n",
    "model.fit(dataset, epochs=10)\n",
    "\n"
   ]
  },
  {
   "cell_type": "code",
   "execution_count": 30,
   "metadata": {},
   "outputs": [
    {
     "name": "stdout",
     "output_type": "stream",
     "text": [
      "32/32 [==============================] - 1s 29ms/step - loss: 0.6533 - accuracy: 0.9540\n",
      "\n",
      "Test accuracy: 0.9539539813995361\n"
     ]
    }
   ],
   "source": [
    "test_loss, test_acc = model.evaluate(dataset)\n",
    "\n",
    "print('\\nTest accuracy:', test_acc)"
   ]
  },
  {
   "cell_type": "code",
   "execution_count": 31,
   "metadata": {},
   "outputs": [
    {
     "name": "stdout",
     "output_type": "stream",
     "text": [
      "1/1 [==============================] - 0s 44ms/step\n",
      "1/1 [==============================] - 0s 22ms/step\n",
      "1/1 [==============================] - 0s 22ms/step\n",
      "1/1 [==============================] - 0s 22ms/step\n",
      "1/1 [==============================] - 0s 22ms/step\n",
      "1/1 [==============================] - 0s 22ms/step\n",
      "1/1 [==============================] - 0s 22ms/step\n",
      "1/1 [==============================] - 0s 25ms/step\n",
      "1/1 [==============================] - 0s 23ms/step\n"
     ]
    }
   ],
   "source": [
    "import cv2\n",
    "\n",
    "for images, labels in dataset.take(1):\n",
    "    for i in range(9):\n",
    "        image = images[i].numpy().astype('uint8')\n",
    "        label = labels[i].numpy()\n",
    "        label = dataset.class_names[int(label)]\n",
    "        #put the label on the image\n",
    "        cv2.putText(image, label, (0, 30), cv2.FONT_HERSHEY_SIMPLEX, 1, (0, 0, 255), 2)\n",
    "        #predict the image\n",
    "        prediction = model.predict(np.array([image]))\n",
    "        prediction = dataset.class_names[int(prediction[0][0])]\n",
    "        #put the prediction on the image\n",
    "        cv2.putText(image, str(prediction), (0, 60), cv2.FONT_HERSHEY_SIMPLEX, 1, (0, 255, 0), 2)\n",
    "        cv2.imshow('image', image)\n",
    "        cv2.waitKey(0)\n",
    "        cv2.destroyAllWindows()"
   ]
  },
  {
   "cell_type": "code",
   "execution_count": 32,
   "metadata": {},
   "outputs": [
    {
     "name": "stdout",
     "output_type": "stream",
     "text": [
      "           OPERATION           DATA DIMENSIONS   WEIGHTS(N)   WEIGHTS(%)\n",
      "\n",
      "               Input   #####    256  256    3\n",
      "           Rescaling   ????? -------------------         0     0.0%\n",
      "                       #####    256  256    3\n",
      "             Flatten   ||||| -------------------         0     0.0%\n",
      "                       #####      196608\n",
      "               Dense   XXXXX -------------------  25165952   100.0%\n",
      "                relu   #####         128\n",
      "               Dense   XXXXX -------------------       129     0.0%\n",
      "             sigmoid   #####           1\n"
     ]
    }
   ],
   "source": [
    "\n",
    "plot_model(model, to_file='model.png', show_shapes=True, show_layer_names=True)\n",
    "keras2ascii(model)\n"
   ]
  }
 ],
 "metadata": {
  "kernelspec": {
   "display_name": "Python 3.10.8 64-bit",
   "language": "python",
   "name": "python3"
  },
  "language_info": {
   "codemirror_mode": {
    "name": "ipython",
    "version": 3
   },
   "file_extension": ".py",
   "mimetype": "text/x-python",
   "name": "python",
   "nbconvert_exporter": "python",
   "pygments_lexer": "ipython3",
   "version": "3.10.8"
  },
  "orig_nbformat": 4,
  "vscode": {
   "interpreter": {
    "hash": "ef78058822767834d8287c064bf2810d940be6a9cc3f5bd815c64180c3337fdc"
   }
  }
 },
 "nbformat": 4,
 "nbformat_minor": 2
}
